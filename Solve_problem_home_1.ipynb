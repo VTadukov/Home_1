{
 "cells": [
  {
   "cell_type": "markdown",
   "metadata": {},
   "source": [
    "# Solve problem 1"
   ]
  },
  {
   "cell_type": "code",
   "execution_count": 1,
   "metadata": {},
   "outputs": [
    {
     "name": "stdout",
     "output_type": "stream",
     "text": [
      "фраза 1 длиннее фразы 2\n"
     ]
    }
   ],
   "source": [
    "phrase_1 = 'Большунов объяснил, почему не подошёл к Ретивых сразу после финиша командного спринта'\n",
    "phrase_2 = 'Норвежские СМИ не понимают, что случилось с российскими лыжницами на ЧМ'\n",
    "\n",
    "if len(phrase_1) > len(phrase_2):\n",
    "    print('фраза 1 длиннее фразы 2')\n",
    "elif len(phrase_1) < len(phrase_2):\n",
    "    print('фраза 2 длиннее фразы 1')\n",
    "else: \n",
    "    print('фразы равной длины')"
   ]
  },
  {
   "cell_type": "markdown",
   "metadata": {},
   "source": [
    "# Solve problem 2"
   ]
  },
  {
   "cell_type": "code",
   "execution_count": 16,
   "metadata": {},
   "outputs": [
    {
     "name": "stdout",
     "output_type": "stream",
     "text": [
      "Введите год: 2015\n",
      "Обычный год\n"
     ]
    }
   ],
   "source": [
    "year = int(input('Введите год: '))\n",
    "if year == 2020:\n",
    "    print('Високосный год')\n",
    "else:\n",
    "    print('Обычный год')"
   ]
  },
  {
   "cell_type": "markdown",
   "metadata": {},
   "source": [
    "# Solve problem 3"
   ]
  },
  {
   "cell_type": "code",
   "execution_count": 15,
   "metadata": {},
   "outputs": [
    {
     "name": "stdout",
     "output_type": "stream",
     "text": [
      "Введите дату рождения: 16\n",
      "Введите месяц рождения: Сентябрь\n",
      "Ваш знак зодиака:  Дева\n"
     ]
    }
   ],
   "source": [
    "date = int(input('Введите дату рождения: '))\n",
    "month = input('Введите месяц рождения: ')\n",
    "if month == 'Декабрь':\n",
    "    zodiac = 'Стрелец' if date < 22 else 'Козерог'\n",
    "elif month == 'Январь':\n",
    "    zodiac = 'Козерог' if date < 20 else 'Водолей'\n",
    "elif month == 'Февраль':\n",
    "    zodiac = 'Водолей' if date < 19 else 'Рыбы'\n",
    "elif month == 'Март':\n",
    "    zodiac = 'Рыбы' if date < 21 else 'Овен'\n",
    "elif month == 'Апрель':\n",
    "    zodiac = 'Овен' if date < 20 else 'Телец'\n",
    "elif month == 'Май':\n",
    "    zodiac = 'Телец' if date < 21 else 'Близнецы'\n",
    "elif month == 'Июнь':\n",
    "    zodiac = 'Близнецы' if date < 21 else 'Рак'\n",
    "elif month == 'Июль':\n",
    "    zodiac = 'Рак' if date < 22 else 'Лев'\n",
    "elif month == 'Август':\n",
    "    zodiac = 'Лев' if date < 21 else 'Дева'\n",
    "elif month == 'Сентябрь':\n",
    "    zodiac = 'Дева' if date < 23 else 'Весы'\n",
    "elif month == 'Октябрь':\n",
    "    zodiac = 'Весы' if date < 23 else 'Скорпион'\n",
    "elif month == 'Ноябрь':\n",
    "    zodiac = 'Скорпион' if date < 22 else 'Стрелец'\n",
    "    \n",
    "print('Ваш знак зодиака: ',zodiac)"
   ]
  },
  {
   "cell_type": "markdown",
   "metadata": {},
   "source": [
    "# Solve problem 4"
   ]
  },
  {
   "cell_type": "code",
   "execution_count": 11,
   "metadata": {},
   "outputs": [],
   "source": [
    "width = 10\n",
    "length = 205\n",
    "height = 5\n",
    "if width < 15 and length < 15 and height < 15:\n",
    "    print('Коробка №1')"
   ]
  },
  {
   "cell_type": "code",
   "execution_count": 12,
   "metadata": {},
   "outputs": [],
   "source": [
    "width = 10\n",
    "length = 205\n",
    "height = 5\n",
    "if (width > 15 and width < 50) or (length > 15 and length < 50) or (height > 15 and height < 50):\n",
    "    print('Коробка №2')"
   ]
  },
  {
   "cell_type": "code",
   "execution_count": 13,
   "metadata": {},
   "outputs": [
    {
     "name": "stdout",
     "output_type": "stream",
     "text": [
      "Упаковка для лыж\n"
     ]
    }
   ],
   "source": [
    "width = 10\n",
    "length = 205\n",
    "height = 5\n",
    "if length > 200:\n",
    "    print('Упаковка для лыж')"
   ]
  },
  {
   "cell_type": "code",
   "execution_count": 14,
   "metadata": {},
   "outputs": [
    {
     "name": "stdout",
     "output_type": "stream",
     "text": [
      "Упаковка для лыж\n"
     ]
    }
   ],
   "source": [
    "width = 10\n",
    "length = 205\n",
    "height = 5\n",
    "if length > 200:\n",
    "    print('Упаковка для лыж')\n",
    "else:\n",
    "    print('Стандартная коробка №3')"
   ]
  },
  {
   "cell_type": "markdown",
   "metadata": {},
   "source": [
    "# Solve problem 5"
   ]
  },
  {
   "cell_type": "code",
   "execution_count": 3,
   "metadata": {},
   "outputs": [
    {
     "name": "stdout",
     "output_type": "stream",
     "text": [
      "111111\n",
      "Счастливый!\n"
     ]
    }
   ],
   "source": [
    "number = input()\n",
    "sum_1 = int(number[0]) + int(number[1]) + int(number[2])\n",
    "sum_2 = int(number[3]) + int(number[4]) + int(number[5])\n",
    "if sum_1 == sum_2:\n",
    "    print('Счастливый!')\n",
    "else:\n",
    "    print('Лузер!')"
   ]
  },
  {
   "cell_type": "markdown",
   "metadata": {},
   "source": [
    "# Solve problem 6"
   ]
  },
  {
   "cell_type": "code",
   "execution_count": 10,
   "metadata": {},
   "outputs": [
    {
     "name": "stdout",
     "output_type": "stream",
     "text": [
      "Введите тип фигуры: Прямоугольник\n",
      "Введите сторону А: 2\n",
      "Введите сторону В: 3\n",
      "Площадь прямоугольника:  6\n"
     ]
    }
   ],
   "source": [
    "figure = input('Введите тип фигуры: ')\n",
    "\n",
    "if figure == 'Круг':\n",
    "    circle = int(input('Введите радиус круга: '))\n",
    "    pi = 3.14\n",
    "    final_1 = pi * circle**2\n",
    "    print('Площадь круга: ', final_1)\n",
    "elif figure == 'Треугольник':\n",
    "    triangle_1 = int(input('Введите сторону А: '))\n",
    "    triangle_2 = int(input('Введите высоту H: '))\n",
    "    final_2 = 1/2 * triangle_1 * triangle_2\n",
    "    print('Площадь треугольника: ', final_2)\n",
    "elif figure == 'Прямоугольник':\n",
    "    rectangle_1 = int(input('Введите сторону А: '))\n",
    "    rectangle_2 = int(input('Введите сторону В: '))\n",
    "    final_3 = rectangle_1 * rectangle_2\n",
    "    print('Площадь прямоугольника: ', final_3)"
   ]
  }
 ],
 "metadata": {
  "kernelspec": {
   "display_name": "Python 3",
   "language": "python",
   "name": "python3"
  }
 },
 "nbformat": 4,
 "nbformat_minor": 4
}
