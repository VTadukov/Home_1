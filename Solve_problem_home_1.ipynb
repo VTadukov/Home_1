{
 "cells": [
  {
   "cell_type": "markdown",
   "metadata": {},
   "source": [
    "# Solve problem 1"
   ]
  },
  {
   "cell_type": "code",
   "execution_count": 8,
   "metadata": {},
   "outputs": [
    {
     "name": "stdout",
     "output_type": "stream",
     "text": [
      "фраза 1 длиннее фразы 2\n"
     ]
    }
   ],
   "source": [
    "phrase_1 = 'Большунов объяснил, почему не подошёл к Ретивых сразу после финиша командного спринта'\n",
    "phrase_2 = 'Норвежские СМИ не понимают, что случилось с российскими лыжницами на ЧМ'\n",
    "\n",
    "if len(phrase_1) > len(phrase_2):\n",
    "    print('фраза 1 длиннее фразы 2')\n",
    "elif len(phrase_1) < len(phrase_2):\n",
    "    print('фраза 2 длиннее фразы 1')\n",
    "else: \n",
    "    print('фразы равной длины')"
   ]
  },
  {
   "cell_type": "markdown",
   "metadata": {},
   "source": [
    "# Solve problem 2"
   ]
  },
  {
   "cell_type": "code",
   "execution_count": 14,
   "metadata": {},
   "outputs": [
    {
     "name": "stdout",
     "output_type": "stream",
     "text": [
      "Введите год: 2015\n",
      "Обычный год\n"
     ]
    }
   ],
   "source": [
    "year = int(input('Введите год: '))\n",
    "if year == 2020:\n",
    "    print('Високосный год')\n",
    "else:\n",
    "    print('Обычный год')"
   ]
  },
  {
   "cell_type": "markdown",
   "metadata": {},
   "source": [
    "# Solve problem 3"
   ]
  },
  {
   "cell_type": "code",
   "execution_count": 61,
   "metadata": {},
   "outputs": [
    {
     "name": "stdout",
     "output_type": "stream",
     "text": [
      "Введите дату рождения: 16\n",
      "Введите месяц рождения: Сентябрь\n",
      "Ваш знак зодиака:  Дева\n"
     ]
    }
   ],
   "source": [
    "date = int(input('Введите дату рождения: '))\n",
    "month = input('Введите месяц рождения: ')\n",
    "if month == 'Декабрь':\n",
    "    zodiac = 'Стрелец' if date < 22 else 'Козерог'\n",
    "elif month == 'Январь':\n",
    "    zodiac = 'Козерог' if date < 20 else 'Водолей'\n",
    "elif month == 'Февраль':\n",
    "    zodiac = 'Водолей' if date < 19 else 'Рыбы'\n",
    "elif month == 'Март':\n",
    "    zodiac = 'Рыбы' if date < 21 else 'Овен'\n",
    "elif month == 'Апрель':\n",
    "    zodiac = 'Овен' if date < 20 else 'Телец'\n",
    "elif month == 'Май':\n",
    "    zodiac = 'Телец' if date < 21 else 'Близнецы'\n",
    "elif month == 'Июнь':\n",
    "    zodiac = 'Близнецы' if date < 21 else 'Рак'\n",
    "elif month == 'Июль':\n",
    "    zodiac = 'Рак' if date < 22 else 'Лев'\n",
    "elif month == 'Август':\n",
    "    zodiac = 'Лев' if date < 21 else 'Дева'\n",
    "elif month == 'Сентябрь':\n",
    "    zodiac = 'Дева' if date < 23 else 'Весы'\n",
    "elif month == 'Октябрь':\n",
    "    zodiac = 'Весы' if date < 23 else 'Скорпион'\n",
    "elif month == 'Ноябрь':\n",
    "    zodiac = 'Скорпион' if date < 22 else 'Стрелец'\n",
    "    \n",
    "print('Ваш знак зодиака: ',zodiac)"
   ]
  },
  {
   "cell_type": "markdown",
   "metadata": {},
   "source": [
    "# Solve problem 4"
   ]
  },
  {
   "cell_type": "code",
   "execution_count": 76,
   "metadata": {},
   "outputs": [],
   "source": [
    "width = 10\n",
    "length = 205\n",
    "height = 5\n",
    "if width < 15 and length < 15 and height < 15:\n",
    "    print('Коробка №1')"
   ]
  },
  {
   "cell_type": "code",
   "execution_count": 84,
   "metadata": {},
   "outputs": [],
   "source": [
    "width = 10\n",
    "length = 205\n",
    "height = 5\n",
    "if (width > 15 and width < 50) or (length > 15 and length < 50) or (height > 15 and height < 50):\n",
    "    print('Коробка №2')"
   ]
  },
  {
   "cell_type": "code",
   "execution_count": 83,
   "metadata": {},
   "outputs": [],
   "source": [
    "width = 10\n",
    "length = 205\n",
    "height = 5\n"
   ]
  }
 ],
 "metadata": {
  "kernelspec": {
   "display_name": "Python 3",
   "language": "python",
   "name": "python3"
  },
  "language_info": {
   "codemirror_mode": {
    "name": "ipython",
    "version": 3
   },
   "file_extension": ".py",
   "mimetype": "text/x-python",
   "name": "python",
   "nbconvert_exporter": "python",
   "pygments_lexer": "ipython3",
   "version": "3.8.5"
  }
 },
 "nbformat": 4,
 "nbformat_minor": 4
}
